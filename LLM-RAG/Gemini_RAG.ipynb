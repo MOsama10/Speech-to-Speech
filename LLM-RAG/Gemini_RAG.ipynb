{
 "cells": [
  {
   "cell_type": "code",
   "execution_count": null,
   "metadata": {},
   "outputs": [],
   "source": [
    "%%capture --no-stderr\n",
    "%pip install --upgrade --quiet langchain langchain-community sqlite3 \n",
    "%pip install -qU langchain-google-genai\n",
    "!pip install -qU langchain-\n",
    "!pip install langchain-experimental"
   ]
  },
  {
   "cell_type": "code",
   "execution_count": null,
   "metadata": {},
   "outputs": [],
   "source": [
    "import sqlite3\n",
    "import pandas as pd\n",
    "\n",
    "df = pd.read_excel('translated.xlsx')\n",
    "df.head()"
   ]
  },
  {
   "cell_type": "code",
   "execution_count": null,
   "metadata": {},
   "outputs": [],
   "source": [
    "df.rename(columns={'    Quantity' : 'Quantity'}, inplace=True)\n",
    "df.info()"
   ]
  },
  {
   "cell_type": "code",
   "execution_count": null,
   "metadata": {},
   "outputs": [],
   "source": [
    "import os\n",
    "from langchain.utilities import SQLDatabase\n",
    "from langchain_core.messages import SystemMessage, HumanMessage\n",
    "from langchain_google_genai import ChatGoogleGenerativeAI\n",
    "from IPython.display import display\n",
    "import re\n",
    "\n",
    "# Environment setup\n",
    "if \"GOOGLE_API_KEY\" not in os.environ:\n",
    "    from getpass import getpass\n",
    "    os.environ[\"GOOGLE_API_KEY\"] = getpass(\"Enter your Google AI API key: \")\n",
    "\n",
    "# Initialize LLM\n",
    "llm = ChatGoogleGenerativeAI(model=\"gemini-1.5-flash\")\n",
    "\n",
    "# Database setup\n",
    "SQLITE_URI = \"sqlite:///Material.db\"\n",
    "db = SQLDatabase.from_uri(SQLITE_URI, include_tables=['materials'], sample_rows_in_table_info=2)\n",
    "\n",
    "\n",
    "def clean_sql_query(query: str) -> str:\n",
    "    \"\"\"Remove markdown formatting and extra whitespace from SQL query.\"\"\"\n",
    "    # Remove markdown code blocks\n",
    "    query = re.sub(r'```sql\\s*|\\s*```', '', query)\n",
    "    # Remove extra whitespace and newlines\n",
    "    query = re.sub(r'\\s+', ' ', query).strip()\n",
    "    return query\n",
    "\n",
    "\n",
    "def convert_to_sql_query(user_query: str) -> str:\n",
    "    \"\"\"Convert a natural language query into a structured SQL query.\"\"\"\n",
    "    system_message = \"\"\"\n",
    "    As a SQL expert, convert the following user input into a SQL query based on this schema:\n",
    "    Table: materials\n",
    "    Columns: Material, \"Material Description\", Component, Quantity\n",
    "\n",
    "    Return only the SQL query without any markdown formatting or additional text.\n",
    "    Ensure the SQL query is executable in a standard SQL environment.\n",
    "    Use double quotes for column names with spaces.\n",
    "    \"\"\"\n",
    "    messages = [\n",
    "        SystemMessage(content=system_message),\n",
    "        HumanMessage(content=f\"User Query: {user_query}\")\n",
    "    ]\n",
    "    sql_query = llm(messages).content.strip()\n",
    "    print(\"Generated SQL Query:\")\n",
    "    display(sql_query)\n",
    "    sql_query = clean_sql_query(sql_query)\n",
    "    return sql_query\n",
    "\n",
    "def retrieve_from_db(query: str) -> str:\n",
    "    \"\"\"Execute the SQL query and return results as a string.\"\"\"\n",
    "    try:\n",
    "        result = db.run(query)\n",
    "        print(\"Retrieved Data:\")\n",
    "        display(result)\n",
    "        return str(result)\n",
    "    except Exception as e:\n",
    "        print(f\"Database retrieval error: {e}\")\n",
    "        return \"No data retrieved due to an error.\"\n",
    "\n",
    "def generate_response(user_input: str) -> str:\n",
    "    \"\"\"Generate a response to the user's query using the RAG pipeline.\"\"\"\n",
    "    sql_query = convert_to_sql_query(user_input)\n",
    "    db_result = retrieve_from_db(sql_query)\n",
    "    \n",
    "    system_message = \"\"\"\n",
    "    As a professional representative of a manufacturing and logistics company, \n",
    "    assist users in retrieving detailed product information based on their queries. \n",
    "    Use the provided database result to formulate the most relevant and accurate responses.\n",
    "    \"\"\"\n",
    "    \n",
    "    messages = [\n",
    "        SystemMessage(content=system_message),\n",
    "        HumanMessage(content=f\"User Query: {user_input}\\n\\nDatabase Result: {db_result}\\n\\nPlease provide a detailed response based on this information:\")\n",
    "    ]\n",
    "    \n",
    "    response = llm(messages).content\n",
    "    print(\"Final Response:\")\n",
    "    display(response)\n",
    "    return response\n",
    "\n",
    "# Example usage\n"
   ]
  },
  {
   "cell_type": "code",
   "execution_count": null,
   "metadata": {},
   "outputs": [],
   "source": [
    "sample_query = \"What are the components in the product with material code: OFSO2SBG?\" \n",
    "response = generate_response(sample_query)\n",
    "print(response)"
   ]
  }
 ],
 "metadata": {
  "language_info": {
   "name": "python"
  }
 },
 "nbformat": 4,
 "nbformat_minor": 2
}
